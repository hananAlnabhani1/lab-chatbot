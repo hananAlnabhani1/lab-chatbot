{
 "cells": [
  {
   "cell_type": "markdown",
   "id": "a9183228-0ba6-4af9-8430-649e28868253",
   "metadata": {
    "id": "JMXGlIvAwn30"
   },
   "source": [
    "# **The Chat Format**\n",
    "\n",
    "In this notebook, you will explore how you can utilize the chat format to have extended conversations with chatbots personalized or specialized for specific tasks or behaviors.\n",
    "\n",
    "## Setup"
   ]
  },
  {
   "cell_type": "code",
   "execution_count": 65,
   "id": "7fa0d9b5",
   "metadata": {
    "tags": []
   },
   "outputs": [],
   "source": [
    "from openai import OpenAI\n",
    "import os\n",
    "\n",
    "from dotenv import load_dotenv, find_dotenv\n",
    "_ = load_dotenv(find_dotenv()) # read local .env file\n",
    "\n",
    "OPENAI_API_KEY  = os.getenv('OPENAI_API_KEY')"
   ]
  },
  {
   "cell_type": "code",
   "execution_count": 68,
   "id": "f5308d65",
   "metadata": {
    "tags": []
   },
   "outputs": [],
   "source": [
    "client = OpenAI(\n",
    "    # This is the default and can be omitted\n",
    "    api_key=OPENAI_API_KEY,\n",
    ")\n",
    "\n",
    "def get_completion(prompt, model=\"gpt-3.5-turbo\", temperature=0): \n",
    "    messages = [{\"role\": \"user\", \"content\": prompt}]\n",
    "    response = client.chat.completions.create(\n",
    "        model=model,\n",
    "        messages=messages,\n",
    "        temperature=temperature, \n",
    "    )\n",
    "    return response.choices[0].message.content\n",
    "\n",
    "\n",
    "def get_completion_from_messages(message, model=\"gpt-3.5-turbo\", temperature=0): \n",
    "    response = client.chat.completions.create(\n",
    "        model=model,\n",
    "        messages=message,\n",
    "        temperature=temperature, \n",
    "    )\n",
    "    return response.choices[0].message.content"
   ]
  },
  {
   "cell_type": "code",
   "execution_count": 69,
   "id": "cee681b7",
   "metadata": {
    "tags": []
   },
   "outputs": [],
   "source": [
    "messages =  [  \n",
    "{'role':'system', 'content':'You are an assistant that speaks like Shakespeare.'},    \n",
    "{'role':'user', 'content':'tell me a joke'},   \n",
    "{'role':'assistant', 'content':'Why did the chicken cross the road'},   \n",
    "{'role':'user', 'content':'I don\\'t know'}  ]"
   ]
  },
  {
   "cell_type": "code",
   "execution_count": 70,
   "id": "da45ea0f",
   "metadata": {
    "tags": []
   },
   "outputs": [
    {
     "name": "stdout",
     "output_type": "stream",
     "text": [
      "To get to the other side, of course! Haha, a jest that is old and oft told.\n"
     ]
    }
   ],
   "source": [
    "response = get_completion_from_messages(messages, temperature=1)\n",
    "print(response)"
   ]
  },
  {
   "cell_type": "code",
   "execution_count": 71,
   "id": "ca733f8f",
   "metadata": {
    "tags": []
   },
   "outputs": [
    {
     "name": "stdout",
     "output_type": "stream",
     "text": [
      "Hello, Hanoona! It's nice to meet you. How are you today?\n"
     ]
    }
   ],
   "source": [
    "messages =  [  \n",
    "{'role':'system', 'content':'You are friendly chatbot.'},    \n",
    "{'role':'user', 'content':'Hi, my name is Hanoona'}  ]\n",
    "response = get_completion_from_messages(messages, temperature=1)\n",
    "print(response)"
   ]
  },
  {
   "cell_type": "code",
   "execution_count": 72,
   "id": "0ae595bc",
   "metadata": {
    "tags": []
   },
   "outputs": [
    {
     "name": "stdout",
     "output_type": "stream",
     "text": [
      "I'm sorry, but I don't have access to personal information about you. However, feel free to share your name with me if you'd like!\n"
     ]
    }
   ],
   "source": [
    "messages =  [  \n",
    "{'role':'system', 'content':'You are friendly chatbot.'},    \n",
    "{'role':'user', 'content':'Yes,  can you remind me, What is my name?'}  ]\n",
    "response = get_completion_from_messages(messages, temperature=1)\n",
    "print(response)"
   ]
  },
  {
   "cell_type": "code",
   "execution_count": 81,
   "id": "56cbb817",
   "metadata": {
    "tags": []
   },
   "outputs": [
    {
     "name": "stdout",
     "output_type": "stream",
     "text": [
      "Your name is Hanooona. Let me know if you have any other questions or need assistance with something else!\n"
     ]
    }
   ],
   "source": [
    "messages =  [  \n",
    "{'role':'system', 'content':'You are friendly chatbot.'},\n",
    "{'role':'user', 'content':'Hi, my name is Hanooona '},\n",
    "{'role':'assistant', 'content': \"Hi Isa! It's nice to meet you. \\\n",
    "Is there anything I can help you with today?\"},\n",
    "{'role':'user', 'content':'Yes, you can remind me, What is my name?'}  ]\n",
    "response = get_completion_from_messages(messages, temperature=1)\n",
    "print(response)"
   ]
  },
  {
   "cell_type": "markdown",
   "id": "dedba66a-58b0-40d4-b9ae-47e79ae22328",
   "metadata": {
    "id": "bBg_MpXeYnTq"
   },
   "source": [
    "# OrderBot\n",
    "We can automate the collection of user prompts and assistant responses to build a  OrderBot. The OrderBot will take orders at a pizza restaurant. "
   ]
  },
  {
   "cell_type": "code",
   "execution_count": 82,
   "id": "e76749ac",
   "metadata": {
    "tags": []
   },
   "outputs": [],
   "source": [
    "def collect_messages(_):\n",
    "    prompt = inp.value_input\n",
    "    inp.value = ''\n",
    "    context.append({'role':'user', 'content':f\"{prompt}\"})\n",
    "    response = get_completion_from_messages(context) \n",
    "    context.append({'role':'assistant', 'content':f\"{response}\"})\n",
    "    panels.append(\n",
    "        pn.Row('User:', pn.pane.Markdown(prompt, width=600)))\n",
    "    panels.append(\n",
    "        pn.Row('Assistant:', pn.pane.Markdown(response, width=600, styles={'background-color': '#F6F6F6'})))\n",
    " \n",
    "    return pn.Column(*panels)\n"
   ]
  },
  {
   "cell_type": "code",
   "execution_count": 84,
   "id": "46dd4b9b",
   "metadata": {},
   "outputs": [
    {
     "name": "stdout",
     "output_type": "stream",
     "text": [
      "Requirement already satisfied: panel in c:\\users\\hano1\\appdata\\local\\programs\\python\\python39\\lib\\site-packages (1.4.5)\n",
      "Requirement already satisfied: bokeh<3.5.0,>=3.4.0 in c:\\users\\hano1\\appdata\\local\\programs\\python\\python39\\lib\\site-packages (from panel) (3.4.3)\n",
      "Requirement already satisfied: bleach in c:\\users\\hano1\\appdata\\local\\programs\\python\\python39\\lib\\site-packages (from panel) (6.2.0)\n",
      "Requirement already satisfied: pyviz-comms>=2.0.0 in c:\\users\\hano1\\appdata\\local\\programs\\python\\python39\\lib\\site-packages (from panel) (3.0.4)\n",
      "Requirement already satisfied: linkify-it-py in c:\\users\\hano1\\appdata\\local\\programs\\python\\python39\\lib\\site-packages (from panel) (2.0.3)\n",
      "Requirement already satisfied: markdown-it-py in c:\\users\\hano1\\appdata\\local\\programs\\python\\python39\\lib\\site-packages (from panel) (3.0.0)\n",
      "Requirement already satisfied: pandas>=1.2 in c:\\users\\hano1\\appdata\\local\\programs\\python\\python39\\lib\\site-packages (from panel) (2.2.3)\n",
      "Requirement already satisfied: xyzservices>=2021.09.1 in c:\\users\\hano1\\appdata\\local\\programs\\python\\python39\\lib\\site-packages (from panel) (2025.1.0)\n",
      "Requirement already satisfied: requests in c:\\users\\hano1\\appdata\\local\\programs\\python\\python39\\lib\\site-packages (from panel) (2.32.3)\n",
      "Requirement already satisfied: mdit-py-plugins in c:\\users\\hano1\\appdata\\local\\programs\\python\\python39\\lib\\site-packages (from panel) (0.4.2)\n",
      "Requirement already satisfied: param<3.0,>=2.1.0 in c:\\users\\hano1\\appdata\\local\\programs\\python\\python39\\lib\\site-packages (from panel) (2.2.0)\n",
      "Requirement already satisfied: tqdm>=4.48.0 in c:\\users\\hano1\\appdata\\local\\programs\\python\\python39\\lib\\site-packages (from panel) (4.67.1)\n",
      "Requirement already satisfied: markdown in c:\\users\\hano1\\appdata\\local\\programs\\python\\python39\\lib\\site-packages (from panel) (3.7)\n",
      "Requirement already satisfied: typing-extensions in c:\\users\\hano1\\appdata\\roaming\\python\\python39\\site-packages (from panel) (4.12.2)\n",
      "Requirement already satisfied: packaging>=16.8 in c:\\users\\hano1\\appdata\\roaming\\python\\python39\\site-packages (from bokeh<3.5.0,>=3.4.0->panel) (24.2)\n",
      "Requirement already satisfied: pillow>=7.1.0 in c:\\users\\hano1\\appdata\\local\\programs\\python\\python39\\lib\\site-packages (from bokeh<3.5.0,>=3.4.0->panel) (11.1.0)\n",
      "Requirement already satisfied: numpy>=1.16 in c:\\users\\hano1\\appdata\\local\\programs\\python\\python39\\lib\\site-packages (from bokeh<3.5.0,>=3.4.0->panel) (1.26.4)\n",
      "Requirement already satisfied: PyYAML>=3.10 in c:\\users\\hano1\\appdata\\local\\programs\\python\\python39\\lib\\site-packages (from bokeh<3.5.0,>=3.4.0->panel) (6.0.2)\n",
      "Requirement already satisfied: tornado>=6.2 in c:\\users\\hano1\\appdata\\roaming\\python\\python39\\site-packages (from bokeh<3.5.0,>=3.4.0->panel) (6.4.2)\n",
      "Requirement already satisfied: Jinja2>=2.9 in c:\\users\\hano1\\appdata\\local\\programs\\python\\python39\\lib\\site-packages (from bokeh<3.5.0,>=3.4.0->panel) (3.1.6)\n",
      "Requirement already satisfied: contourpy>=1.2 in c:\\users\\hano1\\appdata\\local\\programs\\python\\python39\\lib\\site-packages (from bokeh<3.5.0,>=3.4.0->panel) (1.3.0)\n",
      "Requirement already satisfied: webencodings in c:\\users\\hano1\\appdata\\local\\programs\\python\\python39\\lib\\site-packages (from bleach->panel) (0.5.1)\n",
      "Requirement already satisfied: uc-micro-py in c:\\users\\hano1\\appdata\\local\\programs\\python\\python39\\lib\\site-packages (from linkify-it-py->panel) (1.0.3)\n",
      "Requirement already satisfied: mdurl~=0.1 in c:\\users\\hano1\\appdata\\local\\programs\\python\\python39\\lib\\site-packages (from markdown-it-py->panel) (0.1.2)\n",
      "Requirement already satisfied: python-dateutil>=2.8.2 in c:\\users\\hano1\\appdata\\roaming\\python\\python39\\site-packages (from pandas>=1.2->panel) (2.9.0.post0)\n",
      "Requirement already satisfied: tzdata>=2022.7 in c:\\users\\hano1\\appdata\\local\\programs\\python\\python39\\lib\\site-packages (from pandas>=1.2->panel) (2025.1)\n",
      "Requirement already satisfied: pytz>=2020.1 in c:\\users\\hano1\\appdata\\local\\programs\\python\\python39\\lib\\site-packages (from pandas>=1.2->panel) (2025.1)\n",
      "Requirement already satisfied: certifi>=2017.4.17 in c:\\users\\hano1\\appdata\\local\\programs\\python\\python39\\lib\\site-packages (from requests->panel) (2025.1.31)\n",
      "Requirement already satisfied: charset-normalizer<4,>=2 in c:\\users\\hano1\\appdata\\local\\programs\\python\\python39\\lib\\site-packages (from requests->panel) (3.4.1)\n",
      "Requirement already satisfied: urllib3<3,>=1.21.1 in c:\\users\\hano1\\appdata\\local\\programs\\python\\python39\\lib\\site-packages (from requests->panel) (2.3.0)\n",
      "Requirement already satisfied: idna<4,>=2.5 in c:\\users\\hano1\\appdata\\local\\programs\\python\\python39\\lib\\site-packages (from requests->panel) (3.10)\n",
      "Requirement already satisfied: colorama; platform_system == \"Windows\" in c:\\users\\hano1\\appdata\\roaming\\python\\python39\\site-packages (from tqdm>=4.48.0->panel) (0.4.6)\n",
      "Requirement already satisfied: importlib-metadata>=4.4; python_version < \"3.10\" in c:\\users\\hano1\\appdata\\roaming\\python\\python39\\site-packages (from markdown->panel) (8.6.1)\n",
      "Requirement already satisfied: MarkupSafe>=2.0 in c:\\users\\hano1\\appdata\\local\\programs\\python\\python39\\lib\\site-packages (from Jinja2>=2.9->bokeh<3.5.0,>=3.4.0->panel) (3.0.2)\n",
      "Requirement already satisfied: six>=1.5 in c:\\users\\hano1\\appdata\\roaming\\python\\python39\\site-packages (from python-dateutil>=2.8.2->pandas>=1.2->panel) (1.17.0)\n",
      "Requirement already satisfied: zipp>=3.20 in c:\\users\\hano1\\appdata\\roaming\\python\\python39\\site-packages (from importlib-metadata>=4.4; python_version < \"3.10\"->markdown->panel) (3.21.0)\n",
      "Note: you may need to restart the kernel to use updated packages.\n"
     ]
    },
    {
     "name": "stderr",
     "output_type": "stream",
     "text": [
      "WARNING: You are using pip version 20.2.3; however, version 25.0.1 is available.\n",
      "You should consider upgrading via the 'c:\\Users\\hano1\\AppData\\Local\\Programs\\Python\\Python39\\python.exe -m pip install --upgrade pip' command.\n"
     ]
    }
   ],
   "source": [
    "pip install panel"
   ]
  },
  {
   "cell_type": "code",
   "execution_count": 61,
   "id": "25c6254b",
   "metadata": {},
   "outputs": [],
   "source": [
    "#pip install --upgrade panel"
   ]
  },
  {
   "cell_type": "code",
   "execution_count": 62,
   "id": "bd3675a1",
   "metadata": {},
   "outputs": [],
   "source": [
    "#pip install param bokeh pyviz_comms"
   ]
  },
  {
   "cell_type": "code",
   "execution_count": 63,
   "id": "28e80ca0",
   "metadata": {},
   "outputs": [],
   "source": [
    "#pip install --upgrade param"
   ]
  },
  {
   "cell_type": "code",
   "execution_count": 85,
   "id": "474b557c",
   "metadata": {
    "tags": []
   },
   "outputs": [
    {
     "ename": "ValueError",
     "evalue": "expected a non-empty sequence of strings, got typing.Literal['replace', 'append', 'intersect', 'subtract', 'xor'] or toggle",
     "output_type": "error",
     "traceback": [
      "\u001b[1;31m---------------------------------------------------------------------------\u001b[0m",
      "\u001b[1;31mValueError\u001b[0m                                Traceback (most recent call last)",
      "Cell \u001b[1;32mIn[85], line 1\u001b[0m\n\u001b[1;32m----> 1\u001b[0m \u001b[38;5;28;01mimport\u001b[39;00m\u001b[38;5;250m \u001b[39m\u001b[38;5;21;01mpanel\u001b[39;00m\u001b[38;5;250m \u001b[39m\u001b[38;5;28;01mas\u001b[39;00m\u001b[38;5;250m \u001b[39m\u001b[38;5;21;01mpn\u001b[39;00m  \u001b[38;5;66;03m# GUI\u001b[39;00m\n\u001b[0;32m      2\u001b[0m pn\u001b[38;5;241m.\u001b[39mextension()\n\u001b[0;32m      4\u001b[0m panels \u001b[38;5;241m=\u001b[39m [] \u001b[38;5;66;03m# collect display \u001b[39;00m\n",
      "File \u001b[1;32mc:\\Users\\hano1\\AppData\\Local\\Programs\\Python\\Python39\\lib\\site-packages\\panel\\__init__.py:50\u001b[0m\n\u001b[0;32m      1\u001b[0m \u001b[38;5;124;03m\"\"\"\u001b[39;00m\n\u001b[0;32m      2\u001b[0m \u001b[38;5;124;03mPanel is a high level app and dashboarding framework\u001b[39;00m\n\u001b[0;32m      3\u001b[0m \u001b[38;5;124;03m====================================================\u001b[39;00m\n\u001b[1;32m   (...)\u001b[0m\n\u001b[0;32m     46\u001b[0m \u001b[38;5;124;03mhttps://panel.holoviz.org/getting_started/index.html\u001b[39;00m\n\u001b[0;32m     47\u001b[0m \u001b[38;5;124;03m\"\"\"\u001b[39;00m\n\u001b[0;32m     48\u001b[0m \u001b[38;5;28;01mfrom\u001b[39;00m\u001b[38;5;250m \u001b[39m\u001b[38;5;21;01mparam\u001b[39;00m\u001b[38;5;250m \u001b[39m\u001b[38;5;28;01mimport\u001b[39;00m rx\n\u001b[1;32m---> 50\u001b[0m \u001b[38;5;28;01mfrom\u001b[39;00m\u001b[38;5;250m \u001b[39m\u001b[38;5;21;01m.\u001b[39;00m\u001b[38;5;250m \u001b[39m\u001b[38;5;28;01mimport\u001b[39;00m layout  \u001b[38;5;66;03m# noqa\u001b[39;00m\n\u001b[0;32m     51\u001b[0m \u001b[38;5;28;01mfrom\u001b[39;00m\u001b[38;5;250m \u001b[39m\u001b[38;5;21;01m.\u001b[39;00m\u001b[38;5;250m \u001b[39m\u001b[38;5;28;01mimport\u001b[39;00m links  \u001b[38;5;66;03m# noqa\u001b[39;00m\n\u001b[0;32m     52\u001b[0m \u001b[38;5;28;01mfrom\u001b[39;00m\u001b[38;5;250m \u001b[39m\u001b[38;5;21;01m.\u001b[39;00m\u001b[38;5;250m \u001b[39m\u001b[38;5;28;01mimport\u001b[39;00m pane  \u001b[38;5;66;03m# noqa\u001b[39;00m\n",
      "File \u001b[1;32mc:\\Users\\hano1\\AppData\\Local\\Programs\\Python\\Python39\\lib\\site-packages\\panel\\layout\\__init__.py:31\u001b[0m\n\u001b[0;32m      1\u001b[0m \u001b[38;5;124;03m\"\"\"\u001b[39;00m\n\u001b[0;32m      2\u001b[0m \u001b[38;5;124;03mLayout\u001b[39;00m\n\u001b[0;32m      3\u001b[0m \u001b[38;5;124;03m======\u001b[39;00m\n\u001b[1;32m   (...)\u001b[0m\n\u001b[0;32m     29\u001b[0m \u001b[38;5;124;03mhttps://panel.holoviz.org/getting_started/index.html\u001b[39;00m\n\u001b[0;32m     30\u001b[0m \u001b[38;5;124;03m\"\"\"\u001b[39;00m\n\u001b[1;32m---> 31\u001b[0m \u001b[38;5;28;01mfrom\u001b[39;00m\u001b[38;5;250m \u001b[39m\u001b[38;5;21;01m.\u001b[39;00m\u001b[38;5;21;01maccordion\u001b[39;00m\u001b[38;5;250m \u001b[39m\u001b[38;5;28;01mimport\u001b[39;00m Accordion  \u001b[38;5;66;03m# noqa\u001b[39;00m\n\u001b[0;32m     32\u001b[0m \u001b[38;5;28;01mfrom\u001b[39;00m\u001b[38;5;250m \u001b[39m\u001b[38;5;21;01m.\u001b[39;00m\u001b[38;5;21;01mbase\u001b[39;00m\u001b[38;5;250m \u001b[39m\u001b[38;5;28;01mimport\u001b[39;00m (  \u001b[38;5;66;03m# noqa\u001b[39;00m\n\u001b[0;32m     33\u001b[0m     Column, ListLike, ListPanel, Panel, Row, WidgetBox,\n\u001b[0;32m     34\u001b[0m )\n\u001b[0;32m     35\u001b[0m \u001b[38;5;28;01mfrom\u001b[39;00m\u001b[38;5;250m \u001b[39m\u001b[38;5;21;01m.\u001b[39;00m\u001b[38;5;21;01mcard\u001b[39;00m\u001b[38;5;250m \u001b[39m\u001b[38;5;28;01mimport\u001b[39;00m Card  \u001b[38;5;66;03m# noqa\u001b[39;00m\n",
      "File \u001b[1;32mc:\\Users\\hano1\\AppData\\Local\\Programs\\Python\\Python39\\lib\\site-packages\\panel\\layout\\accordion.py:9\u001b[0m\n\u001b[0;32m      3\u001b[0m \u001b[38;5;28;01mfrom\u001b[39;00m\u001b[38;5;250m \u001b[39m\u001b[38;5;21;01mtyping\u001b[39;00m\u001b[38;5;250m \u001b[39m\u001b[38;5;28;01mimport\u001b[39;00m (\n\u001b[0;32m      4\u001b[0m     TYPE_CHECKING, Callable, ClassVar, Mapping,\n\u001b[0;32m      5\u001b[0m )\n\u001b[0;32m      7\u001b[0m \u001b[38;5;28;01mimport\u001b[39;00m\u001b[38;5;250m \u001b[39m\u001b[38;5;21;01mparam\u001b[39;00m\n\u001b[1;32m----> 9\u001b[0m \u001b[38;5;28;01mfrom\u001b[39;00m\u001b[38;5;250m \u001b[39m\u001b[38;5;21;01mbokeh\u001b[39;00m\u001b[38;5;21;01m.\u001b[39;00m\u001b[38;5;21;01mmodels\u001b[39;00m\u001b[38;5;250m \u001b[39m\u001b[38;5;28;01mimport\u001b[39;00m Column \u001b[38;5;28;01mas\u001b[39;00m BkColumn, CustomJS\n\u001b[0;32m     11\u001b[0m \u001b[38;5;28;01mfrom\u001b[39;00m\u001b[38;5;250m \u001b[39m\u001b[38;5;21;01m.\u001b[39;00m\u001b[38;5;21;01m.\u001b[39;00m\u001b[38;5;21;01mreactive\u001b[39;00m\u001b[38;5;250m \u001b[39m\u001b[38;5;28;01mimport\u001b[39;00m Reactive\n\u001b[0;32m     12\u001b[0m \u001b[38;5;28;01mfrom\u001b[39;00m\u001b[38;5;250m \u001b[39m\u001b[38;5;21;01m.\u001b[39;00m\u001b[38;5;21;01mbase\u001b[39;00m\u001b[38;5;250m \u001b[39m\u001b[38;5;28;01mimport\u001b[39;00m NamedListPanel\n",
      "File \u001b[1;32mc:\\Users\\hano1\\AppData\\Local\\Programs\\Python\\Python39\\lib\\site-packages\\bokeh\\models\\__init__.py:32\u001b[0m\n\u001b[0;32m     25\u001b[0m log \u001b[38;5;241m=\u001b[39m logging\u001b[38;5;241m.\u001b[39mgetLogger(\u001b[38;5;18m__name__\u001b[39m)\n\u001b[0;32m     27\u001b[0m \u001b[38;5;66;03m#-----------------------------------------------------------------------------\u001b[39;00m\n\u001b[0;32m     28\u001b[0m \u001b[38;5;66;03m# Imports\u001b[39;00m\n\u001b[0;32m     29\u001b[0m \u001b[38;5;66;03m#-----------------------------------------------------------------------------\u001b[39;00m\n\u001b[0;32m     30\u001b[0m \n\u001b[0;32m     31\u001b[0m \u001b[38;5;66;03m# Bokeh imports\u001b[39;00m\n\u001b[1;32m---> 32\u001b[0m \u001b[38;5;28;01mfrom\u001b[39;00m\u001b[38;5;250m \u001b[39m\u001b[38;5;21;01m.\u001b[39;00m\u001b[38;5;21;01m.\u001b[39;00m\u001b[38;5;21;01mmodel\u001b[39;00m\u001b[38;5;250m \u001b[39m\u001b[38;5;28;01mimport\u001b[39;00m Model\n\u001b[0;32m     33\u001b[0m \u001b[38;5;28;01mfrom\u001b[39;00m\u001b[38;5;250m \u001b[39m\u001b[38;5;21;01m.\u001b[39;00m\u001b[38;5;250m \u001b[39m\u001b[38;5;28;01mimport\u001b[39;00m (\n\u001b[0;32m     34\u001b[0m     annotations,\n\u001b[0;32m     35\u001b[0m     axes,\n\u001b[1;32m   (...)\u001b[0m\n\u001b[0;32m     65\u001b[0m     widgets,\n\u001b[0;32m     66\u001b[0m )\n\u001b[0;32m     67\u001b[0m \u001b[38;5;28;01mfrom\u001b[39;00m\u001b[38;5;250m \u001b[39m\u001b[38;5;21;01m.\u001b[39;00m\u001b[38;5;21;01mannotations\u001b[39;00m\u001b[38;5;250m \u001b[39m\u001b[38;5;28;01mimport\u001b[39;00m \u001b[38;5;241m*\u001b[39m\n",
      "File \u001b[1;32mc:\\Users\\hano1\\AppData\\Local\\Programs\\Python\\Python39\\lib\\site-packages\\bokeh\\model\\__init__.py:24\u001b[0m\n\u001b[0;32m     17\u001b[0m log \u001b[38;5;241m=\u001b[39m logging\u001b[38;5;241m.\u001b[39mgetLogger(\u001b[38;5;18m__name__\u001b[39m)\n\u001b[0;32m     19\u001b[0m \u001b[38;5;66;03m#-----------------------------------------------------------------------------\u001b[39;00m\n\u001b[0;32m     20\u001b[0m \u001b[38;5;66;03m# Imports\u001b[39;00m\n\u001b[0;32m     21\u001b[0m \u001b[38;5;66;03m#-----------------------------------------------------------------------------\u001b[39;00m\n\u001b[0;32m     22\u001b[0m \n\u001b[0;32m     23\u001b[0m \u001b[38;5;66;03m# Bokeh imports\u001b[39;00m\n\u001b[1;32m---> 24\u001b[0m \u001b[38;5;28;01mfrom\u001b[39;00m\u001b[38;5;250m \u001b[39m\u001b[38;5;21;01m.\u001b[39;00m\u001b[38;5;21;01mdata_model\u001b[39;00m\u001b[38;5;250m \u001b[39m\u001b[38;5;28;01mimport\u001b[39;00m DataModel\n\u001b[0;32m     25\u001b[0m \u001b[38;5;28;01mfrom\u001b[39;00m\u001b[38;5;250m \u001b[39m\u001b[38;5;21;01m.\u001b[39;00m\u001b[38;5;21;01mmodel\u001b[39;00m\u001b[38;5;250m \u001b[39m\u001b[38;5;28;01mimport\u001b[39;00m Model\n\u001b[0;32m     26\u001b[0m \u001b[38;5;28;01mfrom\u001b[39;00m\u001b[38;5;250m \u001b[39m\u001b[38;5;21;01m.\u001b[39;00m\u001b[38;5;21;01mutil\u001b[39;00m\u001b[38;5;250m \u001b[39m\u001b[38;5;28;01mimport\u001b[39;00m Qualified, collect_models, get_class\n",
      "File \u001b[1;32mc:\\Users\\hano1\\AppData\\Local\\Programs\\Python\\Python39\\lib\\site-packages\\bokeh\\model\\data_model.py:25\u001b[0m\n\u001b[0;32m     19\u001b[0m \u001b[38;5;66;03m#-----------------------------------------------------------------------------\u001b[39;00m\n\u001b[0;32m     20\u001b[0m \u001b[38;5;66;03m# Imports\u001b[39;00m\n\u001b[0;32m     21\u001b[0m \u001b[38;5;66;03m#-----------------------------------------------------------------------------\u001b[39;00m\n\u001b[0;32m     22\u001b[0m \n\u001b[0;32m     23\u001b[0m \u001b[38;5;66;03m# Bokeh imports\u001b[39;00m\n\u001b[0;32m     24\u001b[0m \u001b[38;5;28;01mfrom\u001b[39;00m\u001b[38;5;250m \u001b[39m\u001b[38;5;21;01m.\u001b[39;00m\u001b[38;5;21;01m.\u001b[39;00m\u001b[38;5;21;01mcore\u001b[39;00m\u001b[38;5;21;01m.\u001b[39;00m\u001b[38;5;21;01mhas_props\u001b[39;00m\u001b[38;5;250m \u001b[39m\u001b[38;5;28;01mimport\u001b[39;00m abstract\n\u001b[1;32m---> 25\u001b[0m \u001b[38;5;28;01mfrom\u001b[39;00m\u001b[38;5;250m \u001b[39m\u001b[38;5;21;01m.\u001b[39;00m\u001b[38;5;21;01mmodel\u001b[39;00m\u001b[38;5;250m \u001b[39m\u001b[38;5;28;01mimport\u001b[39;00m Model\n\u001b[0;32m     27\u001b[0m \u001b[38;5;66;03m#-----------------------------------------------------------------------------\u001b[39;00m\n\u001b[0;32m     28\u001b[0m \u001b[38;5;66;03m# Globals and constants\u001b[39;00m\n\u001b[0;32m     29\u001b[0m \u001b[38;5;66;03m#-----------------------------------------------------------------------------\u001b[39;00m\n\u001b[0;32m     31\u001b[0m __all__ \u001b[38;5;241m=\u001b[39m (\n\u001b[0;32m     32\u001b[0m     \u001b[38;5;124m'\u001b[39m\u001b[38;5;124mDataModel\u001b[39m\u001b[38;5;124m'\u001b[39m,\n\u001b[0;32m     33\u001b[0m )\n",
      "File \u001b[1;32mc:\\Users\\hano1\\AppData\\Local\\Programs\\Python\\Python39\\lib\\site-packages\\bokeh\\model\\model.py:28\u001b[0m\n\u001b[0;32m     25\u001b[0m \u001b[38;5;28;01mfrom\u001b[39;00m\u001b[38;5;250m \u001b[39m\u001b[38;5;21;01mtyping\u001b[39;00m\u001b[38;5;250m \u001b[39m\u001b[38;5;28;01mimport\u001b[39;00m TYPE_CHECKING, Any, Iterable\n\u001b[0;32m     27\u001b[0m \u001b[38;5;66;03m# Bokeh imports\u001b[39;00m\n\u001b[1;32m---> 28\u001b[0m \u001b[38;5;28;01mfrom\u001b[39;00m\u001b[38;5;250m \u001b[39m\u001b[38;5;21;01m.\u001b[39;00m\u001b[38;5;21;01m.\u001b[39;00m\u001b[38;5;21;01mcore\u001b[39;00m\u001b[38;5;250m \u001b[39m\u001b[38;5;28;01mimport\u001b[39;00m properties \u001b[38;5;28;01mas\u001b[39;00m p\n\u001b[0;32m     29\u001b[0m \u001b[38;5;28;01mfrom\u001b[39;00m\u001b[38;5;250m \u001b[39m\u001b[38;5;21;01m.\u001b[39;00m\u001b[38;5;21;01m.\u001b[39;00m\u001b[38;5;21;01mcore\u001b[39;00m\u001b[38;5;21;01m.\u001b[39;00m\u001b[38;5;21;01mhas_props\u001b[39;00m\u001b[38;5;250m \u001b[39m\u001b[38;5;28;01mimport\u001b[39;00m HasProps, _default_resolver, abstract\n\u001b[0;32m     30\u001b[0m \u001b[38;5;28;01mfrom\u001b[39;00m\u001b[38;5;250m \u001b[39m\u001b[38;5;21;01m.\u001b[39;00m\u001b[38;5;21;01m.\u001b[39;00m\u001b[38;5;21;01mcore\u001b[39;00m\u001b[38;5;21;01m.\u001b[39;00m\u001b[38;5;21;01mproperty\u001b[39;00m\u001b[38;5;21;01m.\u001b[39;00m\u001b[38;5;21;01m_sphinx\u001b[39;00m\u001b[38;5;250m \u001b[39m\u001b[38;5;28;01mimport\u001b[39;00m type_link\n",
      "File \u001b[1;32mc:\\Users\\hano1\\AppData\\Local\\Programs\\Python\\Python39\\lib\\site-packages\\bokeh\\core\\properties.py:307\u001b[0m\n\u001b[0;32m    301\u001b[0m \u001b[38;5;66;03m#-----------------------------------------------------------------------------\u001b[39;00m\n\u001b[0;32m    302\u001b[0m \u001b[38;5;66;03m# General API\u001b[39;00m\n\u001b[0;32m    303\u001b[0m \u001b[38;5;66;03m#-----------------------------------------------------------------------------\u001b[39;00m\n\u001b[0;32m    305\u001b[0m \u001b[38;5;28;01mfrom\u001b[39;00m\u001b[38;5;250m \u001b[39m\u001b[38;5;21;01m.\u001b[39;00m\u001b[38;5;21;01mproperty\u001b[39;00m\u001b[38;5;21;01m.\u001b[39;00m\u001b[38;5;21;01malias\u001b[39;00m\u001b[38;5;250m \u001b[39m\u001b[38;5;28;01mimport\u001b[39;00m Alias, DeprecatedAlias\n\u001b[1;32m--> 307\u001b[0m \u001b[38;5;28;01mfrom\u001b[39;00m\u001b[38;5;250m \u001b[39m\u001b[38;5;21;01m.\u001b[39;00m\u001b[38;5;21;01mproperty\u001b[39;00m\u001b[38;5;21;01m.\u001b[39;00m\u001b[38;5;21;01maliases\u001b[39;00m\u001b[38;5;250m \u001b[39m\u001b[38;5;28;01mimport\u001b[39;00m CoordinateLike\n\u001b[0;32m    309\u001b[0m \u001b[38;5;28;01mfrom\u001b[39;00m\u001b[38;5;250m \u001b[39m\u001b[38;5;21;01m.\u001b[39;00m\u001b[38;5;21;01mproperty\u001b[39;00m\u001b[38;5;21;01m.\u001b[39;00m\u001b[38;5;21;01many\u001b[39;00m\u001b[38;5;250m \u001b[39m\u001b[38;5;28;01mimport\u001b[39;00m Any\n\u001b[0;32m    310\u001b[0m \u001b[38;5;28;01mfrom\u001b[39;00m\u001b[38;5;250m \u001b[39m\u001b[38;5;21;01m.\u001b[39;00m\u001b[38;5;21;01mproperty\u001b[39;00m\u001b[38;5;21;01m.\u001b[39;00m\u001b[38;5;21;01many\u001b[39;00m\u001b[38;5;250m \u001b[39m\u001b[38;5;28;01mimport\u001b[39;00m AnyRef\n",
      "File \u001b[1;32mc:\\Users\\hano1\\AppData\\Local\\Programs\\Python\\Python39\\lib\\site-packages\\bokeh\\core\\property\\aliases.py:26\u001b[0m\n\u001b[0;32m     24\u001b[0m \u001b[38;5;28;01mfrom\u001b[39;00m\u001b[38;5;250m \u001b[39m\u001b[38;5;21;01m.\u001b[39;00m\u001b[38;5;21;01mdatetime\u001b[39;00m\u001b[38;5;250m \u001b[39m\u001b[38;5;28;01mimport\u001b[39;00m Datetime\n\u001b[0;32m     25\u001b[0m \u001b[38;5;28;01mfrom\u001b[39;00m\u001b[38;5;250m \u001b[39m\u001b[38;5;21;01m.\u001b[39;00m\u001b[38;5;21;01meither\u001b[39;00m\u001b[38;5;250m \u001b[39m\u001b[38;5;28;01mimport\u001b[39;00m Either\n\u001b[1;32m---> 26\u001b[0m \u001b[38;5;28;01mfrom\u001b[39;00m\u001b[38;5;250m \u001b[39m\u001b[38;5;21;01m.\u001b[39;00m\u001b[38;5;21;01mfactors\u001b[39;00m\u001b[38;5;250m \u001b[39m\u001b[38;5;28;01mimport\u001b[39;00m Factor\n\u001b[0;32m     27\u001b[0m \u001b[38;5;28;01mfrom\u001b[39;00m\u001b[38;5;250m \u001b[39m\u001b[38;5;21;01m.\u001b[39;00m\u001b[38;5;21;01mprimitive\u001b[39;00m\u001b[38;5;250m \u001b[39m\u001b[38;5;28;01mimport\u001b[39;00m Float\n\u001b[0;32m     29\u001b[0m \u001b[38;5;66;03m#-----------------------------------------------------------------------------\u001b[39;00m\n\u001b[0;32m     30\u001b[0m \u001b[38;5;66;03m# Globals and constants\u001b[39;00m\n\u001b[0;32m     31\u001b[0m \u001b[38;5;66;03m#-----------------------------------------------------------------------------\u001b[39;00m\n",
      "File \u001b[1;32mc:\\Users\\hano1\\AppData\\Local\\Programs\\Python\\Python39\\lib\\site-packages\\bokeh\\core\\property\\factors.py:26\u001b[0m\n\u001b[0;32m     24\u001b[0m \u001b[38;5;66;03m# Bokeh imports\u001b[39;00m\n\u001b[0;32m     25\u001b[0m \u001b[38;5;28;01mfrom\u001b[39;00m\u001b[38;5;250m \u001b[39m\u001b[38;5;21;01m.\u001b[39;00m\u001b[38;5;21;01mbases\u001b[39;00m\u001b[38;5;250m \u001b[39m\u001b[38;5;28;01mimport\u001b[39;00m Init, SingleParameterizedProperty\n\u001b[1;32m---> 26\u001b[0m \u001b[38;5;28;01mfrom\u001b[39;00m\u001b[38;5;250m \u001b[39m\u001b[38;5;21;01m.\u001b[39;00m\u001b[38;5;21;01mcontainer\u001b[39;00m\u001b[38;5;250m \u001b[39m\u001b[38;5;28;01mimport\u001b[39;00m Seq, Tuple\n\u001b[0;32m     27\u001b[0m \u001b[38;5;28;01mfrom\u001b[39;00m\u001b[38;5;250m \u001b[39m\u001b[38;5;21;01m.\u001b[39;00m\u001b[38;5;21;01meither\u001b[39;00m\u001b[38;5;250m \u001b[39m\u001b[38;5;28;01mimport\u001b[39;00m Either\n\u001b[0;32m     28\u001b[0m \u001b[38;5;28;01mfrom\u001b[39;00m\u001b[38;5;250m \u001b[39m\u001b[38;5;21;01m.\u001b[39;00m\u001b[38;5;21;01mprimitive\u001b[39;00m\u001b[38;5;250m \u001b[39m\u001b[38;5;28;01mimport\u001b[39;00m String\n",
      "File \u001b[1;32mc:\\Users\\hano1\\AppData\\Local\\Programs\\Python\\Python39\\lib\\site-packages\\bokeh\\core\\property\\container.py:43\u001b[0m\n\u001b[0;32m     35\u001b[0m \u001b[38;5;28;01mfrom\u001b[39;00m\u001b[38;5;250m \u001b[39m\u001b[38;5;21;01m.\u001b[39;00m\u001b[38;5;21;01mbases\u001b[39;00m\u001b[38;5;250m \u001b[39m\u001b[38;5;28;01mimport\u001b[39;00m (\n\u001b[0;32m     36\u001b[0m     ContainerProperty,\n\u001b[0;32m     37\u001b[0m     Init,\n\u001b[1;32m   (...)\u001b[0m\n\u001b[0;32m     40\u001b[0m     TypeOrInst,\n\u001b[0;32m     41\u001b[0m )\n\u001b[0;32m     42\u001b[0m \u001b[38;5;28;01mfrom\u001b[39;00m\u001b[38;5;250m \u001b[39m\u001b[38;5;21;01m.\u001b[39;00m\u001b[38;5;21;01mdescriptors\u001b[39;00m\u001b[38;5;250m \u001b[39m\u001b[38;5;28;01mimport\u001b[39;00m ColumnDataPropertyDescriptor\n\u001b[1;32m---> 43\u001b[0m \u001b[38;5;28;01mfrom\u001b[39;00m\u001b[38;5;250m \u001b[39m\u001b[38;5;21;01m.\u001b[39;00m\u001b[38;5;21;01menum\u001b[39;00m\u001b[38;5;250m \u001b[39m\u001b[38;5;28;01mimport\u001b[39;00m Enum\n\u001b[0;32m     44\u001b[0m \u001b[38;5;28;01mfrom\u001b[39;00m\u001b[38;5;250m \u001b[39m\u001b[38;5;21;01m.\u001b[39;00m\u001b[38;5;21;01mnumeric\u001b[39;00m\u001b[38;5;250m \u001b[39m\u001b[38;5;28;01mimport\u001b[39;00m Int\n\u001b[0;32m     45\u001b[0m \u001b[38;5;28;01mfrom\u001b[39;00m\u001b[38;5;250m \u001b[39m\u001b[38;5;21;01m.\u001b[39;00m\u001b[38;5;21;01msingletons\u001b[39;00m\u001b[38;5;250m \u001b[39m\u001b[38;5;28;01mimport\u001b[39;00m Intrinsic, Undefined\n",
      "File \u001b[1;32mc:\\Users\\hano1\\AppData\\Local\\Programs\\Python\\Python39\\lib\\site-packages\\bokeh\\core\\property\\enum.py:33\u001b[0m\n\u001b[0;32m     31\u001b[0m \u001b[38;5;66;03m# Bokeh imports\u001b[39;00m\n\u001b[0;32m     32\u001b[0m \u001b[38;5;28;01mfrom\u001b[39;00m\u001b[38;5;250m \u001b[39m\u001b[38;5;21;01m.\u001b[39;00m\u001b[38;5;21;01m.\u001b[39;00m\u001b[38;5;21;01m.\u001b[39;00m\u001b[38;5;21;01mutil\u001b[39;00m\u001b[38;5;21;01m.\u001b[39;00m\u001b[38;5;21;01mstrings\u001b[39;00m\u001b[38;5;250m \u001b[39m\u001b[38;5;28;01mimport\u001b[39;00m nice_join\n\u001b[1;32m---> 33\u001b[0m \u001b[38;5;28;01mfrom\u001b[39;00m\u001b[38;5;250m \u001b[39m\u001b[38;5;21;01m.\u001b[39;00m\u001b[38;5;21;01m.\u001b[39;00m\u001b[38;5;250m \u001b[39m\u001b[38;5;28;01mimport\u001b[39;00m enums\n\u001b[0;32m     34\u001b[0m \u001b[38;5;28;01mfrom\u001b[39;00m\u001b[38;5;250m \u001b[39m\u001b[38;5;21;01m.\u001b[39;00m\u001b[38;5;21;01m_sphinx\u001b[39;00m\u001b[38;5;250m \u001b[39m\u001b[38;5;28;01mimport\u001b[39;00m model_link, property_link, register_type_link\n\u001b[0;32m     35\u001b[0m \u001b[38;5;28;01mfrom\u001b[39;00m\u001b[38;5;250m \u001b[39m\u001b[38;5;21;01m.\u001b[39;00m\u001b[38;5;21;01mbases\u001b[39;00m\u001b[38;5;250m \u001b[39m\u001b[38;5;28;01mimport\u001b[39;00m Init\n",
      "File \u001b[1;32mc:\\Users\\hano1\\AppData\\Local\\Programs\\Python\\Python39\\lib\\site-packages\\bokeh\\core\\enums.py:475\u001b[0m\n\u001b[0;32m    473\u001b[0m \u001b[38;5;66;03m#: Selection modes\u001b[39;00m\n\u001b[0;32m    474\u001b[0m SelectionModeType \u001b[38;5;241m=\u001b[39m Literal[RegionSelectionModeType, \u001b[38;5;124m\"\u001b[39m\u001b[38;5;124mtoggle\u001b[39m\u001b[38;5;124m\"\u001b[39m]\n\u001b[1;32m--> 475\u001b[0m SelectionMode \u001b[38;5;241m=\u001b[39m \u001b[43menumeration\u001b[49m\u001b[43m(\u001b[49m\u001b[43mSelectionModeType\u001b[49m\u001b[43m)\u001b[49m\n\u001b[0;32m    477\u001b[0m \u001b[38;5;66;03m#: Sizing mode policies\u001b[39;00m\n\u001b[0;32m    478\u001b[0m SizingModeType \u001b[38;5;241m=\u001b[39m Literal[\u001b[38;5;124m\"\u001b[39m\u001b[38;5;124mstretch_width\u001b[39m\u001b[38;5;124m\"\u001b[39m, \u001b[38;5;124m\"\u001b[39m\u001b[38;5;124mstretch_height\u001b[39m\u001b[38;5;124m\"\u001b[39m, \u001b[38;5;124m\"\u001b[39m\u001b[38;5;124mstretch_both\u001b[39m\u001b[38;5;124m\"\u001b[39m, \u001b[38;5;124m\"\u001b[39m\u001b[38;5;124mscale_width\u001b[39m\u001b[38;5;124m\"\u001b[39m, \u001b[38;5;124m\"\u001b[39m\u001b[38;5;124mscale_height\u001b[39m\u001b[38;5;124m\"\u001b[39m, \u001b[38;5;124m\"\u001b[39m\u001b[38;5;124mscale_both\u001b[39m\u001b[38;5;124m\"\u001b[39m, \u001b[38;5;124m\"\u001b[39m\u001b[38;5;124mfixed\u001b[39m\u001b[38;5;124m\"\u001b[39m, \u001b[38;5;124m\"\u001b[39m\u001b[38;5;124minherit\u001b[39m\u001b[38;5;124m\"\u001b[39m]\n",
      "File \u001b[1;32mc:\\Users\\hano1\\AppData\\Local\\Programs\\Python\\Python39\\lib\\site-packages\\bokeh\\core\\enums.py:238\u001b[0m, in \u001b[0;36menumeration\u001b[1;34m(case_sensitive, quote, *values)\u001b[0m\n\u001b[0;32m    235\u001b[0m     values \u001b[38;5;241m=\u001b[39m get_args(values[\u001b[38;5;241m0\u001b[39m])\n\u001b[0;32m    237\u001b[0m \u001b[38;5;28;01mif\u001b[39;00m \u001b[38;5;129;01mnot\u001b[39;00m (values \u001b[38;5;129;01mand\u001b[39;00m \u001b[38;5;28mall\u001b[39m(\u001b[38;5;28misinstance\u001b[39m(value, \u001b[38;5;28mstr\u001b[39m) \u001b[38;5;129;01mand\u001b[39;00m value \u001b[38;5;28;01mfor\u001b[39;00m value \u001b[38;5;129;01min\u001b[39;00m values)):\n\u001b[1;32m--> 238\u001b[0m     \u001b[38;5;28;01mraise\u001b[39;00m \u001b[38;5;167;01mValueError\u001b[39;00m(\u001b[38;5;124mf\u001b[39m\u001b[38;5;124m\"\u001b[39m\u001b[38;5;124mexpected a non-empty sequence of strings, got \u001b[39m\u001b[38;5;132;01m{\u001b[39;00mnice_join(values)\u001b[38;5;132;01m}\u001b[39;00m\u001b[38;5;124m\"\u001b[39m)\n\u001b[0;32m    240\u001b[0m \u001b[38;5;28;01mif\u001b[39;00m \u001b[38;5;28mlen\u001b[39m(values) \u001b[38;5;241m!=\u001b[39m \u001b[38;5;28mlen\u001b[39m(\u001b[38;5;28mset\u001b[39m(values)):\n\u001b[0;32m    241\u001b[0m     \u001b[38;5;28;01mraise\u001b[39;00m \u001b[38;5;167;01mValueError\u001b[39;00m(\u001b[38;5;124mf\u001b[39m\u001b[38;5;124m\"\u001b[39m\u001b[38;5;124menumeration items must be unique, got \u001b[39m\u001b[38;5;132;01m{\u001b[39;00mnice_join(values)\u001b[38;5;132;01m}\u001b[39;00m\u001b[38;5;124m\"\u001b[39m)\n",
      "\u001b[1;31mValueError\u001b[0m: expected a non-empty sequence of strings, got typing.Literal['replace', 'append', 'intersect', 'subtract', 'xor'] or toggle"
     ]
    }
   ],
   "source": [
    "import panel as pn  # GUI\n",
    "pn.extension()\n",
    "\n",
    "panels = [] # collect display \n",
    "\n",
    "context = [ {'role':'system', 'content':\"\"\"\n",
    "You are OrderBot, an automated service to collect orders for a pizza restaurant. \\\n",
    "You first greet the customer, then collects the order, \\\n",
    "and then asks if it's a pickup or delivery. \\\n",
    "You wait to collect the entire order, then summarize it and check for a final \\\n",
    "time if the customer wants to add anything else. \\\n",
    "If it's a delivery, you ask for an address. \\\n",
    "Finally you collect the payment.\\\n",
    "Make sure to clarify all options, extras and sizes to uniquely \\\n",
    "identify the item from the menu.\\\n",
    "You respond in a short, very conversational friendly style. \\\n",
    "The menu includes \\\n",
    "pepperoni pizza  12.95, 10.00, 7.00 \\\n",
    "cheese pizza   10.95, 9.25, 6.50 \\\n",
    "eggplant pizza   11.95, 9.75, 6.75 \\\n",
    "fries 4.50, 3.50 \\\n",
    "greek salad 7.25 \\\n",
    "Toppings: \\\n",
    "extra cheese 2.00, \\\n",
    "mushrooms 1.50 \\\n",
    "sausage 3.00 \\\n",
    "canadian bacon 3.50 \\\n",
    "AI sauce 1.50 \\\n",
    "peppers 1.00 \\\n",
    "Drinks: \\\n",
    "coke 3.00, 2.00, 1.00 \\\n",
    "sprite 3.00, 2.00, 1.00 \\\n",
    "bottled water 5.00 \\\n",
    "\"\"\"} ]  # accumulate messages\n",
    "\n",
    "\n",
    "inp = pn.widgets.TextInput(value=\"Hi\", placeholder='Enter text here…')\n",
    "button_conversation = pn.widgets.Button(name=\"Chat!\")\n",
    "\n",
    "interactive_conversation = pn.bind(collect_messages, button_conversation)\n",
    "\n",
    "dashboard = pn.Column(\n",
    "    inp,\n",
    "    pn.Row(button_conversation),\n",
    "    pn.panel(interactive_conversation, loading_indicator=True, height=300),\n",
    ")\n",
    "\n",
    "dashboard"
   ]
  },
  {
   "cell_type": "code",
   "execution_count": 86,
   "id": "a0ee11b9",
   "metadata": {},
   "outputs": [
    {
     "name": "stdout",
     "output_type": "stream",
     "text": [
      "{\n",
      "  \"pizza\": [\n",
      "    {\n",
      "      \"item\": \"pepperoni pizza\",\n",
      "      \"size\": \"large\",\n",
      "      \"price\": 12.95\n",
      "    }\n",
      "  ],\n",
      "  \"toppings\": [\n",
      "    {\n",
      "      \"item\": \"extra cheese\",\n",
      "      \"price\": 2.00\n",
      "    },\n",
      "    {\n",
      "      \"item\": \"mushrooms\",\n",
      "      \"price\": 1.50\n",
      "    }\n",
      "  ],\n",
      "  \"drinks\": [\n",
      "    {\n",
      "      \"item\": \"coke\",\n",
      "      \"size\": \"medium\",\n",
      "      \"price\": 2.00\n",
      "    }\n",
      "  ],\n",
      "  \"sides\": [],\n",
      "  \"total price\": 18.45\n",
      "}\n"
     ]
    }
   ],
   "source": [
    "messages =  context.copy()\n",
    "messages.append(\n",
    "{'role':'system', 'content':'create a json summary of the previous food order. Itemize the price for each item\\\n",
    " The fields should be 1) pizza, include size 2) list of toppings 3) list of drinks, include size   4) list of sides include size  5)total price '},    \n",
    ")\n",
    " #The fields should be 1) pizza, price 2) list of toppings 3) list of drinks, include size include price  4) list of sides include size include price, 5)total price '},    \n",
    "\n",
    "response = get_completion_from_messages(messages, temperature=0)\n",
    "print(response)"
   ]
  },
  {
   "cell_type": "markdown",
   "id": "3153c581-1c72-497a-9293-8db3bcb804fc",
   "metadata": {},
   "source": [
    "## Try experimenting on your own!\n",
    "\n",
    "You can modify the menu or instructions to create your own orderbot!"
   ]
  },
  {
   "cell_type": "markdown",
   "id": "7420ff21-68da-49ae-955f-49e8bffa769c",
   "metadata": {},
   "source": [
    "# Exercise\n",
    " - Complete the prompts similar to what we did in class. \n",
    "     - Try at least 3 versions\n",
    "     - Be creative\n",
    " - Write a one page report summarizing your findings.\n",
    "     - Were there variations that didn't work well? i.e., where GPT either hallucinated or wrong\n",
    " - What did you learn?"
   ]
  },
  {
   "cell_type": "code",
   "execution_count": null,
   "id": "7aff0ebf-dda8-4b18-a704-393243a0a205",
   "metadata": {},
   "outputs": [],
   "source": [
    "import panel as pn  \n",
    "pn.extension()\n",
    "\n",
    "context = [ \n",
    "    {'role': 'system', 'content': \"\"\"\n",
    "You are a virtual assistant specialized in recommending the best abayas based on user preferences. \n",
    "Start by asking about the occasion (formal, casual, evening, work). \n",
    "Then, inquire about preferred color, fabric type, and style (loose, fitted, embroidered, plain). \n",
    "Suggest the best available abayas based on their taste, and ask if they want to know prices or where to buy. \n",
    "Maintain a friendly and stylish tone, and provide trendy suggestions. 😊\n",
    "\"\"\"}\n",
    "]\n",
    "\n",
    "inp = pn.widgets.TextInput(value=\"\", placeholder=\"Ask me about abayas here...\")\n",
    "\n",
    "button_conversation = pn.widgets.Button(name=\"Find an Abaya 👗\")\n",
    "\n",
    "def collect_messages(event):\n",
    "    user_input = inp.value.strip()\n",
    "    if not user_input:\n",
    "        return \"Please enter your query 😊\"\n",
    "    \n",
    "    context.append({'role': 'user', 'content': user_input})\n",
    "\n",
    "    response = get_completion_from_messages(context, temperature=0.7)\n",
    "\n",
    "    context.append({'role': 'assistant', 'content': response})\n",
    "\n",
    "    return response\n",
    "\n",
    "interactive_conversation = pn.bind(collect_messages, button_conversation)\n",
    "\n",
    "dashboard = pn.Column(\n",
    "    pn.pane.Markdown(\"## 🤖 Abaya Recommendation Assistant\"),\n",
    "    inp,\n",
    "    pn.Row(button_conversation),\n",
    "    pn.panel(interactive_conversation, loading_indicator=True, height=300),\n",
    ")\n",
    "\n",
    "dashboard\n"
   ]
  },
  {
   "cell_type": "code",
   "execution_count": null,
   "id": "e621df26",
   "metadata": {},
   "outputs": [],
   "source": [
    "messages = context.copy()\n",
    "messages.append(\n",
    "    {'role': 'system', 'content': 'Create a JSON summary of the previous abaya recommendation. '\n",
    "     'Include the following fields: '\n",
    "     '1) Recommended abaya style '\n",
    "     '2) Preferred color '\n",
    "     '3) Fabric type '\n",
    "     '4) Occasion '\n",
    "     '5) Estimated price range '\n",
    "     '6) Additional recommendations if applicable.'}\n",
    ")\n",
    "\n",
    "response = get_completion_from_messages(messages, temperature=0)\n",
    "print(response)\n"
   ]
  },
  {
   "cell_type": "code",
   "execution_count": null,
   "id": "035cb181",
   "metadata": {},
   "outputs": [],
   "source": [
    "import panel as pn  \n",
    "pn.extension()\n",
    "\n",
    "context = [ \n",
    "    {'role': 'system', 'content': \"\"\"\n",
    "You are a virtual fitness assistant specializing in recommending the best workout routines. \n",
    "Start by asking the user about their **goal** (muscle gain, weight loss, endurance, flexibility, general fitness). \n",
    "Then, inquire about their **fitness level** (beginner, intermediate, advanced) and how many **days per week** they can train. \n",
    "Suggest a well-structured workout plan based on their responses. \n",
    "You can include workout types like strength training, cardio, HIIT, yoga, or mobility exercises. \n",
    "Make sure to keep your responses motivating and friendly! 💪🔥\n",
    "\"\"\"}\n",
    "]\n",
    "\n",
    "inp = pn.widgets.TextInput(value=\"\", placeholder=\"Ask me about workout plans...\")\n",
    "\n",
    "button_conversation = pn.widgets.Button(name=\"Get Workout Plan 🏋️\")\n",
    "\n",
    "def collect_messages(event):\n",
    "    user_input = inp.value.strip()\n",
    "    if not user_input:\n",
    "        return \"Please enter your fitness goal or question! 😊\"\n",
    "    \n",
    "    context.append({'role': 'user', 'content': user_input})\n",
    "\n",
    "    response = get_completion_from_messages(context, temperature=0.7)\n",
    "\n",
    "    context.append({'role': 'assistant', 'content': response})\n",
    "\n",
    "    return response\n",
    "\n",
    "interactive_conversation = pn.bind(collect_messages, button_conversation)\n",
    "\n",
    "dashboard = pn.Column(\n",
    "    pn.pane.Markdown(\"## 🤖 AI Fitness Coach - Get Your Best Workout Plan\"),\n",
    "    inp,\n",
    "    pn.Row(button_conversation),\n",
    "    pn.panel(interactive_conversation, loading_indicator=True, height=300),\n",
    ")\n",
    "\n",
    "dashboard\n"
   ]
  },
  {
   "cell_type": "code",
   "execution_count": null,
   "id": "732f9be9",
   "metadata": {},
   "outputs": [],
   "source": [
    "messages = context.copy()\n",
    "messages.append(\n",
    "    {'role': 'system', 'content': 'Create a JSON summary of the previous workout recommendation. '\n",
    "     'Include the following fields: '\n",
    "     '1) Workout goal '\n",
    "     '2) Fitness level '\n",
    "     '3) Days per week '\n",
    "     '4) Recommended workout types '\n",
    "     '5) Specific exercises per day '\n",
    "     '6) Additional fitness tips.'}\n",
    ")\n",
    "\n",
    "response = get_completion_from_messages(messages, temperature=0)\n",
    "print(response)\n"
   ]
  }
 ],
 "metadata": {
  "kernelspec": {
   "display_name": "Python 3",
   "language": "python",
   "name": "python3"
  },
  "language_info": {
   "codemirror_mode": {
    "name": "ipython",
    "version": 3
   },
   "file_extension": ".py",
   "mimetype": "text/x-python",
   "name": "python",
   "nbconvert_exporter": "python",
   "pygments_lexer": "ipython3",
   "version": "3.9.0"
  }
 },
 "nbformat": 4,
 "nbformat_minor": 5
}
